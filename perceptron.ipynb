{
 "cells": [
  {
   "cell_type": "markdown",
   "metadata": {},
   "source": [
    "# Perceptron"
   ]
  },
  {
   "cell_type": "markdown",
   "metadata": {},
   "source": [
    "### Initialisation"
   ]
  },
  {
   "cell_type": "code",
   "execution_count": 1,
   "metadata": {},
   "outputs": [],
   "source": [
    "n_samples = 500\n",
    "mu1 = [2, 2]\n",
    "sigma1 = [[0.9, -0.0255], [-0.0255, 0.9]]\n",
    "mu2 = [5, 5]\n",
    "sigma2 = [[0.5, 0], [0, 0.3]]\n",
    "\n",
    "learning_rate = 0.1\n",
    "bias = 1\n",
    "epochs = 1000"
   ]
  }
 ],
 "metadata": {
  "kernelspec": {
   "display_name": "Python 3",
   "language": "python",
   "name": "python3"
  },
  "language_info": {
   "name": "python",
   "version": "3.11.4"
  }
 },
 "nbformat": 4,
 "nbformat_minor": 2
}
