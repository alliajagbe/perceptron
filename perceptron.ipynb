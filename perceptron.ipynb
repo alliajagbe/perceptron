{
 "cells": [
  {
   "cell_type": "markdown",
   "metadata": {},
   "source": [
    "# Perceptron"
   ]
  },
  {
   "cell_type": "markdown",
   "metadata": {},
   "source": [
    "### Initialisation"
   ]
  },
  {
   "cell_type": "code",
   "execution_count": 1,
   "metadata": {},
   "outputs": [],
   "source": [
    "n_samples = 500\n",
    "mu1 = [2, 2]\n",
    "sigma1 = [[0.9, -0.0255], [-0.0255, 0.9]]\n",
    "mu2 = [5, 5]\n",
    "sigma2 = [[0.5, 0], [0, 0.3]]\n",
    "\n",
    "learning_rate = 0.1\n",
    "bias = 1\n",
    "epochs = 1000"
   ]
  },
  {
   "cell_type": "markdown",
   "metadata": {},
   "source": [
    "### Importing Libraries"
   ]
  },
  {
   "cell_type": "code",
   "execution_count": 4,
   "metadata": {},
   "outputs": [],
   "source": [
    "import numpy as np\n",
    "import matplotlib.pyplot as plt\n",
    "from sklearn.model_selection import train_test_split\n",
    "from sklearn.metrics import confusion_matrix"
   ]
  },
  {
   "cell_type": "markdown",
   "metadata": {},
   "source": [
    "## Generating Synthetic Data"
   ]
  },
  {
   "cell_type": "code",
   "execution_count": 5,
   "metadata": {},
   "outputs": [],
   "source": [
    "np.random.seed(0)\n",
    "\n",
    "\n",
    "X1 = np.random.multivariate_normal(mu1, sigma1, n_samples)\n",
    "X2 = np.random.multivariate_normal(mu2, sigma2, n_samples)"
   ]
  },
  {
   "cell_type": "markdown",
   "metadata": {},
   "source": [
    "### Combining Both Classes"
   ]
  },
  {
   "cell_type": "code",
   "execution_count": 6,
   "metadata": {},
   "outputs": [],
   "source": [
    "# combining both classes and their labels into one dataset\n",
    "X = np.vstack((X1, X2))\n",
    "y = np.hstack((np.ones(n_samples), -np.ones(n_samples)))"
   ]
  },
  {
   "cell_type": "markdown",
   "metadata": {},
   "source": [
    "### Adding Bias"
   ]
  },
  {
   "cell_type": "code",
   "execution_count": 9,
   "metadata": {},
   "outputs": [
    {
     "data": {
      "text/plain": [
       "array([[1.        , 1.06459399, 3.46461297],\n",
       "       [1.        , 2.81599432, 4.14758164],\n",
       "       [1.        , 0.08335619, 2.62419612],\n",
       "       ...,\n",
       "       [1.        , 5.13988564, 5.05354032],\n",
       "       [1.        , 5.99102671, 5.08677779],\n",
       "       [1.        , 4.19255376, 4.28195196]])"
      ]
     },
     "execution_count": 9,
     "metadata": {},
     "output_type": "execute_result"
    }
   ],
   "source": [
    "X = np.hstack((bias * np.ones((2 * n_samples, 1)), X))\n",
    "X"
   ]
  },
  {
   "cell_type": "markdown",
   "metadata": {},
   "source": [
    "### Splitting the Data"
   ]
  },
  {
   "cell_type": "code",
   "execution_count": 10,
   "metadata": {},
   "outputs": [],
   "source": [
    "X_train, X_test, y_train, y_test = train_test_split(X, y, test_size=0.2)"
   ]
  },
  {
   "cell_type": "markdown",
   "metadata": {},
   "source": [
    "# Perceptron"
   ]
  },
  {
   "cell_type": "code",
   "execution_count": 11,
   "metadata": {},
   "outputs": [],
   "source": [
    "def perceptron(X, y, learning_rate, epochs):\n",
    "    # initializing weights\n",
    "    w = np.zeros(X.shape[1])\n",
    "    # initializing empty list to store errors\n",
    "    errors = []\n",
    "    # iterating over epochs\n",
    "    for epoch in range(epochs):\n",
    "        # initializing error\n",
    "        error = 0\n",
    "        # iterating over all data points\n",
    "        for i in range(X.shape[0]):\n",
    "            # calculating predicted value\n",
    "            y_hat = np.sign(np.dot(X[i], w))\n",
    "            # calculating error\n",
    "            e = y[i] - y_hat\n",
    "            # updating weights\n",
    "            w = w + learning_rate * e * X[i]\n",
    "            # adding error to list\n",
    "            error += e**2\n",
    "        # appending error to list\n",
    "        errors.append(error)\n",
    "    return w, errors"
   ]
  },
  {
   "cell_type": "markdown",
   "metadata": {},
   "source": [
    "### Defining a Step Activation Function"
   ]
  },
  {
   "cell_type": "code",
   "execution_count": 12,
   "metadata": {},
   "outputs": [],
   "source": [
    "def step(x):\n",
    "    return np.where(x >= 0, 1, -1)"
   ]
  },
  {
   "cell_type": "markdown",
   "metadata": {},
   "source": [
    "## Training the Perceptron"
   ]
  },
  {
   "cell_type": "code",
   "execution_count": 14,
   "metadata": {},
   "outputs": [],
   "source": [
    "# training perceptron\n",
    "w, errors = perceptron(X_train, y_train, learning_rate, epochs)"
   ]
  },
  {
   "cell_type": "markdown",
   "metadata": {},
   "source": [
    "## Testing the Perceptron"
   ]
  },
  {
   "cell_type": "code",
   "execution_count": 15,
   "metadata": {},
   "outputs": [
    {
     "name": "stdout",
     "output_type": "stream",
     "text": [
      "Accuracy: 1.0\n"
     ]
    }
   ],
   "source": [
    "# testing perceptron\n",
    "y_pred = step(np.dot(X_test, w))\n",
    "\n",
    "# calculating accuracy\n",
    "accuracy = np.sum(y_pred == y_test) / len(y_test)\n",
    "print(\"Accuracy:\", accuracy)"
   ]
  }
 ],
 "metadata": {
  "kernelspec": {
   "display_name": "Python 3",
   "language": "python",
   "name": "python3"
  },
  "language_info": {
   "codemirror_mode": {
    "name": "ipython",
    "version": 3
   },
   "file_extension": ".py",
   "mimetype": "text/x-python",
   "name": "python",
   "nbconvert_exporter": "python",
   "pygments_lexer": "ipython3",
   "version": "3.11.4"
  }
 },
 "nbformat": 4,
 "nbformat_minor": 2
}
